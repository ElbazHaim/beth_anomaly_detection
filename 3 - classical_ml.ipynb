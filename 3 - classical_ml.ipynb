{
 "cells": [
  {
   "cell_type": "markdown",
   "id": "093cac12",
   "metadata": {},
   "source": [
    "# 🚨 Cybersecurity Anomaly Detection Workflow\n",
    "\n",
    "This notebook outlines a comprehensive workflow for detecting suspicious activities within logs using advanced machine learning techniques applied to the BETH dataset.\n",
    "\n",
    "The dataset, as discussed in the article [<<article_name>>], serves as the foundation for preprocessing and performance comparison.\n",
    "\n",
    "## 📚 Libraries\n",
    "\n",
    "- Utilizing essential data science, machine learning, and natural language processing packages for a robust analysis.\n",
    "- Downloading the punkt tokenization module to enhance natural language processing capabilities.\n"
   ]
  },
  {
   "cell_type": "code",
   "execution_count": 1,
   "id": "d2723256",
   "metadata": {},
   "outputs": [],
   "source": [
    "from pathlib import Path\n",
    "\n",
    "import mlflow\n",
    "import numpy as np\n",
    "from sklearn.covariance import EllipticEnvelope\n",
    "from sklearn.decomposition import PCA\n",
    "from sklearn.ensemble import IsolationForest\n",
    "from sklearn.linear_model import SGDOneClassSVM\n",
    "from sklearn.preprocessing import StandardScaler\n",
    "from sklearn.metrics import roc_auc_score\n",
    "\n"
   ]
  },
  {
   "cell_type": "code",
   "execution_count": 2,
   "id": "b5526aca",
   "metadata": {},
   "outputs": [],
   "source": [
    "mlflow.set_tracking_uri(\"http://127.0.0.1:5000/\")\n",
    "experiment_name = \"beth_anomaly_detection\"\n",
    "mlflow.set_experiment(experiment_name=experiment_name)\n",
    "mlflow.sklearn.autolog()"
   ]
  },
  {
   "cell_type": "code",
   "execution_count": 3,
   "id": "e5721c6f",
   "metadata": {},
   "outputs": [],
   "source": [
    "input_directory = Path(\"data/np_arrays\")\n",
    "\n",
    "X_train = np.load(input_directory / \"X_train.npy\", allow_pickle=True).astype(\n",
    "    np.float32\n",
    ")\n",
    "y_train = np.load(input_directory / \"y_train.npy\", allow_pickle=True).astype(\n",
    "    np.float32\n",
    ")\n",
    "X_column_names = np.load(\n",
    "    input_directory / \"X_column_names.npy\", allow_pickle=True\n",
    ")\n",
    "\n",
    "X_val = np.load(input_directory / \"X_val.npy\", allow_pickle=True).astype(\n",
    "    np.float32\n",
    ")\n",
    "y_val = np.load(input_directory / \"y_val.npy\", allow_pickle=True).astype(\n",
    "    np.float32\n",
    ")\n",
    "\n",
    "X_test = np.load(input_directory / \"X_test.npy\", allow_pickle=True).astype(\n",
    "    np.float32\n",
    ")\n",
    "y_test = np.load(input_directory / \"y_test.npy\", allow_pickle=True).astype(\n",
    "    np.float32\n",
    ")"
   ]
  },
  {
   "cell_type": "code",
   "execution_count": 4,
   "id": "1da7e021",
   "metadata": {},
   "outputs": [],
   "source": [
    "def anomaly_results_to_binary(y: np.array) -> np.array:\n",
    "    \"\"\"\n",
    "    Transforms an sklearn anomaly detection results format {-1, 0, 1} to\n",
    "    binary format {0, 1}, where inliers are 0 and ouitliers are 1.\n",
    "    Args:\n",
    "        y (np.array): Array of predictions\n",
    "    \n",
    "    Returns:\n",
    "        np.array: Same array, transformed so that 1 is outlier\n",
    "    \"\"\"\n",
    "    y[y == 1] = 0  # inliers\n",
    "    y[y == -1] = 1  # outliers\n",
    "    return y"
   ]
  },
  {
   "cell_type": "markdown",
   "id": "4ae0372b",
   "metadata": {},
   "source": [
    "## 🏋️ Model Training\n",
    "### 🌲 Isolation Forest"
   ]
  },
  {
   "cell_type": "code",
   "execution_count": 5,
   "id": "cb4f32a9",
   "metadata": {},
   "outputs": [],
   "source": [
    "scaler = StandardScaler()\n",
    "\n",
    "X_train = scaler.fit_transform(X_train)\n",
    "X_val = scaler.transform(X_val)\n",
    "X_test = scaler.transform(X_test)"
   ]
  },
  {
   "cell_type": "code",
   "execution_count": 6,
   "id": "55cfc942",
   "metadata": {},
   "outputs": [
    {
     "name": "stdout",
     "output_type": "stream",
     "text": [
      "val auroc: 0.8345678115405457\n",
      "test_auroc 0.8613378831734406\n"
     ]
    }
   ],
   "source": [
    "with mlflow.start_run() as run:\n",
    "    iforest_model = IsolationForest(\n",
    "    n_estimators=100,\n",
    "    contamination=0.1,\n",
    "    random_state=312,\n",
    "    )\n",
    "    iforest_model.fit(X_train, y_train)\n",
    "    y_hat = iforest_model.predict(X_val)\n",
    "    y_hat = anomaly_results_to_binary(y_hat)\n",
    "    auroc = roc_auc_score(y_val, y_hat)\n",
    "    mlflow.log_metric(\"val_auroc\", auroc)\n",
    "    print(\"val auroc:\", auroc)\n",
    "    \n",
    "    y_hat = iforest_model.predict(X_test)\n",
    "    y_hat = anomaly_results_to_binary(y_hat)\n",
    "    auroc = roc_auc_score(y_test, y_hat)\n",
    "    mlflow.log_metric(\"test_auroc\", auroc)\n",
    "    print(\"test_auroc\", auroc)\n",
    "    "
   ]
  },
  {
   "cell_type": "markdown",
   "id": "5257ef04",
   "metadata": {},
   "source": [
    "### ↗️ One-Class Support Vector Machine (Supervized)"
   ]
  },
  {
   "cell_type": "code",
   "execution_count": 7,
   "id": "293245a5",
   "metadata": {},
   "outputs": [
    {
     "name": "stderr",
     "output_type": "stream",
     "text": [
      "2024/02/24 20:29:46 WARNING mlflow.sklearn: Training metrics will not be recorded because training labels were not specified. To automatically record training metrics, provide training labels as inputs to the model training function.\n"
     ]
    },
    {
     "name": "stdout",
     "output_type": "stream",
     "text": [
      "val auroc: 0.8841538727271303\n",
      "test_auroc 0.6883634471993398\n"
     ]
    }
   ],
   "source": [
    "with mlflow.start_run() as run:\n",
    "    one_class_svm_model = SGDOneClassSVM()\n",
    "    one_class_svm_model.fit(X_train)\n",
    "    \n",
    "    y_hat = one_class_svm_model.predict(X_val)\n",
    "    y_hat = anomaly_results_to_binary(y_hat)\n",
    "    auroc = roc_auc_score(y_val, y_hat)\n",
    "    mlflow.log_metric(\"val_auroc\", auroc)\n",
    "    print(\"val auroc:\", auroc)\n",
    "    \n",
    "    y_hat = one_class_svm_model.predict(X_test)\n",
    "    y_hat = anomaly_results_to_binary(y_hat)\n",
    "    auroc = roc_auc_score(y_test, y_hat)\n",
    "    mlflow.log_metric(\"test_auroc\", auroc)\n",
    "    print(\"test_auroc\", auroc)\n",
    "    "
   ]
  },
  {
   "cell_type": "code",
   "execution_count": 8,
   "id": "2992a29a",
   "metadata": {},
   "outputs": [],
   "source": [
    "class DoSE_SVM:\n",
    "    def __init__(self, X):\n",
    "        self.pca = PCA(whiten=True, random_state=12).fit(X)\n",
    "        self.clf = SGDOneClassSVM(random_state=12).fit(\n",
    "            self.pca.transform(X)\n",
    "        )\n",
    "\n",
    "    def detect_outliers(self, test_summary_stats):\n",
    "        return self.clf.predict(self.pca.transform(test_summary_stats)) == -1"
   ]
  },
  {
   "cell_type": "code",
   "execution_count": 18,
   "id": "7f7057c1",
   "metadata": {},
   "outputs": [
    {
     "name": "stderr",
     "output_type": "stream",
     "text": [
      "2024/02/24 21:05:43 WARNING mlflow.sklearn: Training metrics will not be recorded because training labels were not specified. To automatically record training metrics, provide training labels as inputs to the model training function.\n",
      "2024/02/24 21:05:43 WARNING mlflow.sklearn: Model was missing function: predict. Not logging python_function flavor!\n",
      "2024/02/24 21:05:45 WARNING mlflow.sklearn: Training metrics will not be recorded because training labels were not specified. To automatically record training metrics, provide training labels as inputs to the model training function.\n",
      "2024/02/24 21:06:47 WARNING mlflow.utils.autologging_utils: Encountered unexpected error during sklearn autologging: The following failures occurred while performing one or more logging operations: [MlflowException('Failed to perform one or more operations on the run with ID dfb38c08bab14cc5aaa05e2a6eb7c93a. Failed operations: [MlflowException(\"API request to http://127.0.0.1:5000/api/2.0/mlflow/runs/log-batch failed with exception HTTPConnectionPool(host=\\'127.0.0.1\\', port=5000): Max retries exceeded with url: /api/2.0/mlflow/runs/log-batch (Caused by ResponseError(\\'too many 500 error responses\\'))\")]')]\n"
     ]
    },
    {
     "name": "stdout",
     "output_type": "stream",
     "text": [
      "val auroc: 0.6868809633538215\n",
      "test_auroc 0.5\n"
     ]
    }
   ],
   "source": [
    "with mlflow.start_run() as run:\n",
    "    dose_svm_model = DoSE_SVM(X_train)\n",
    "    \n",
    "    y_hat = dose_svm_model.detect_outliers(X_val)\n",
    "    auroc = roc_auc_score(y_val, y_hat)\n",
    "    mlflow.log_metric(\"val_auroc\", auroc)\n",
    "    print(\"val auroc:\", auroc)\n",
    "    \n",
    "    y_hat = dose_svm_model.detect_outliers(X_test)\n",
    "    auroc = roc_auc_score(y_test, y_hat)\n",
    "    mlflow.log_metric(\"test_auroc\", auroc)\n",
    "    print(\"test_auroc\", auroc)\n",
    "    "
   ]
  },
  {
   "cell_type": "code",
   "execution_count": 16,
   "id": "0e5f087e",
   "metadata": {},
   "outputs": [
    {
     "name": "stderr",
     "output_type": "stream",
     "text": [
      "2024/02/24 21:02:11 WARNING mlflow.sklearn: Training metrics will not be recorded because training labels were not specified. To automatically record training metrics, provide training labels as inputs to the model training function.\n"
     ]
    },
    {
     "name": "stdout",
     "output_type": "stream",
     "text": [
      "AUC Score: 0.5830658772529015\n",
      "AUC Score: 0.8689093154036897\n"
     ]
    }
   ],
   "source": [
    "with mlflow.start_run() as run:\n",
    "    envelope = EllipticEnvelope(contamination=0.1)\n",
    "    envelope.fit(X_train)\n",
    "\n",
    "    y_hat = envelope.predict(X_val)\n",
    "    y_hat = anomaly_results_to_binary(y_hat)\n",
    "    auroc = roc_auc_score(y_val, y_hat)\n",
    "    mlflow.log_metric(\"val_auroc\", auroc)\n",
    "    print(\"AUC Score:\", auroc)\n",
    "\n",
    "    y_hat = envelope.predict(X_test)\n",
    "    y_hat = anomaly_results_to_binary(y_hat)\n",
    "    auroc = roc_auc_score(y_test, y_hat)\n",
    "    mlflow.log_metric(\"test_auroc\", auroc)\n",
    "    print(\"AUC Score:\", auroc)"
   ]
  },
  {
   "cell_type": "code",
   "execution_count": 14,
   "id": "69ef2ed7",
   "metadata": {},
   "outputs": [
    {
     "name": "stdout",
     "output_type": "stream",
     "text": [
      "AUC Score: 0.5762426591809388\n"
     ]
    }
   ],
   "source": []
  },
  {
   "cell_type": "code",
   "execution_count": 15,
   "id": "b214ea01",
   "metadata": {},
   "outputs": [
    {
     "name": "stdout",
     "output_type": "stream",
     "text": [
      "AUC Score: 0.8555474704873424\n"
     ]
    }
   ],
   "source": []
  },
  {
   "cell_type": "code",
   "execution_count": null,
   "id": "63898734",
   "metadata": {},
   "outputs": [],
   "source": []
  },
  {
   "cell_type": "code",
   "execution_count": null,
   "id": "f197d9c0",
   "metadata": {},
   "outputs": [],
   "source": []
  }
 ],
 "metadata": {
  "jupytext": {
   "cell_metadata_filter": "-all",
   "formats": "ipynb,py:percent",
   "main_language": "python"
  },
  "kernelspec": {
   "display_name": ".py310",
   "language": "python",
   "name": "python3"
  },
  "language_info": {
   "codemirror_mode": {
    "name": "ipython",
    "version": 3
   },
   "file_extension": ".py",
   "mimetype": "text/x-python",
   "name": "python",
   "nbconvert_exporter": "python",
   "pygments_lexer": "ipython3",
   "version": "3.10.12"
  }
 },
 "nbformat": 4,
 "nbformat_minor": 5
}
